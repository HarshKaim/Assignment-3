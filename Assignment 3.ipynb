{
 "cells": [
  {
   "cell_type": "markdown",
   "id": "b480f8d9",
   "metadata": {},
   "source": [
    "Q1. Which keyword is used to create a function? Create a function to return a list of odd numbers in the\n",
    "range of 1 to 25.\n",
    "\n",
    "Ans. def keyword is used to create a functiond"
   ]
  },
  {
   "cell_type": "code",
   "execution_count": 2,
   "id": "02568c5f",
   "metadata": {},
   "outputs": [],
   "source": [
    "# Function to return a list of odd numbers in the range of 1 to 25\n",
    "def odd():\n",
    "    for i in range(1,25):\n",
    "        if i%2!=0:\n",
    "            return i"
   ]
  },
  {
   "cell_type": "markdown",
   "id": "6c67ff0b",
   "metadata": {},
   "source": [
    "Q2. Why *args and **kwargs is used in some functions? Create a function each for *args and **kwargs to\n",
    "demonstrate their use.\n",
    "\n",
    "Ans. *args is used to take as many number of arguments as required without providing this info before hand * *kwargs is used to pass as many key value pairs as required.\n"
   ]
  },
  {
   "cell_type": "code",
   "execution_count": 3,
   "id": "eef37ad2",
   "metadata": {},
   "outputs": [],
   "source": [
    "def fun1(*args):\n",
    "    return args\n",
    "def fun2(**kwargs):\n",
    "    return kwargs"
   ]
  },
  {
   "cell_type": "markdown",
   "id": "d2713217",
   "metadata": {},
   "source": [
    "Q3. What is an iterator in python? Name the method used to initialise the iterator object and the method\n",
    "used for iteration. Use these methods to print the first five elements of the given list [2, 4, 6, 8, 10, 12, 14, 16,\n",
    "18, 20].\n",
    "\n",
    "Ans. An iterator is an object which allows to iterate over the collection of elements one at a time. Iterators are implemented using two methods \n",
    "1. __iter()__ : To initialize the iterator object\n",
    "2. __next()__ : For iteration"
   ]
  },
  {
   "cell_type": "code",
   "execution_count": 14,
   "id": "a261002f",
   "metadata": {},
   "outputs": [
    {
     "name": "stdout",
     "output_type": "stream",
     "text": [
      "2\n",
      "4\n",
      "6\n",
      "8\n",
      "10\n"
     ]
    }
   ],
   "source": [
    "lst=[2,4,6,8,10,12,14,16,18,20]\n",
    "iterator=iter(lst)\n",
    "for _ in range(5):\n",
    "     ele=next(iterator)\n",
    "     print(ele)"
   ]
  },
  {
   "cell_type": "markdown",
   "id": "ed9c1c84",
   "metadata": {},
   "source": [
    "Q4. What is a generator function in python? Why yield keyword is used? Give an example of a generator\n",
    "function.\n",
    "\n",
    "Ans. In Python, a generator function is a special type of function that generates a sequence of values or objects using the `yield` keyword. Unlike regular functions that use the `return` statement to return a value and terminate the function, generator functions can pause and resume their execution, allowing them to produce a sequence of values over time.\n",
    "\n",
    "The `yield` keyword is used in generator functions to define points at which the function should yield a value and temporarily pause its execution. When a value is yielded, the function's state is saved, and the yielded value is returned to the caller. The next time the function is called, it resumes execution from where it left off, allowing it to continue generating the sequence."
   ]
  },
  {
   "cell_type": "code",
   "execution_count": 15,
   "id": "7e342cc4",
   "metadata": {},
   "outputs": [
    {
     "name": "stdout",
     "output_type": "stream",
     "text": [
      "0\n",
      "2\n",
      "4\n",
      "6\n",
      "8\n"
     ]
    }
   ],
   "source": [
    "def generate_even_numbers(n):\n",
    "    for i in range(n):\n",
    "        if i % 2 == 0:\n",
    "            yield i\n",
    "even_nums = generate_even_numbers(10)\n",
    "for num in even_nums:\n",
    "    print(num)\n"
   ]
  },
  {
   "cell_type": "code",
   "execution_count": null,
   "id": "8713c5c5",
   "metadata": {},
   "outputs": [],
   "source": [
    "# Q5. Create a generator function for prime numbers less than 1000. Use the next() method to print the first 20 prime numbers.\n",
    "def prime():\n",
    "    for i in range(2,1000):\n",
    "        temp=0\n",
    "        for j in range(2,i/2):\n",
    "            if i%j==0:\n",
    "                temp=1\n",
    "        if temp==0:\n",
    "            yei"
   ]
  }
 ],
 "metadata": {
  "kernelspec": {
   "display_name": "Python 3 (ipykernel)",
   "language": "python",
   "name": "python3"
  },
  "language_info": {
   "codemirror_mode": {
    "name": "ipython",
    "version": 3
   },
   "file_extension": ".py",
   "mimetype": "text/x-python",
   "name": "python",
   "nbconvert_exporter": "python",
   "pygments_lexer": "ipython3",
   "version": "3.9.12"
  }
 },
 "nbformat": 4,
 "nbformat_minor": 5
}
